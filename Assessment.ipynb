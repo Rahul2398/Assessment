{
 "cells": [
  {
   "cell_type": "code",
   "execution_count": 12,
   "id": "637b9342",
   "metadata": {},
   "outputs": [],
   "source": [
    "#1. Create a function in python to read the text file and replace specific content of the file.\n",
    "file_name = open('example.txt',\"w+\")\n",
    "file_name.write('This is a placement assignment')\n",
    "file_name.close()"
   ]
  },
  {
   "cell_type": "code",
   "execution_count": 13,
   "id": "57ca14bc",
   "metadata": {},
   "outputs": [
    {
     "data": {
      "text/plain": [
       "'This is a placement assignment'"
      ]
     },
     "execution_count": 13,
     "metadata": {},
     "output_type": "execute_result"
    }
   ],
   "source": [
    "file_name = open('example.txt','r')\n",
    "file_name.read()"
   ]
  },
  {
   "cell_type": "code",
   "execution_count": 14,
   "id": "9524f388",
   "metadata": {},
   "outputs": [],
   "source": [
    "def replace_text(file_name, old_text, new_text):\n",
    "    with open(file_name, 'r') as file:\n",
    "        file_content = file.read()\n",
    "        file_content = file_content.replace(old_text, new_text)\n",
    "        file.close()\n",
    "    with open(file_name, 'w') as file:\n",
    "        file.write(file_content)\n",
    "        file.close()\n",
    "#call the function\n",
    "replace_text('example.txt','placement','screening')\n",
    "#call the function"
   ]
  },
  {
   "cell_type": "code",
   "execution_count": 15,
   "id": "e5fbd23d",
   "metadata": {},
   "outputs": [
    {
     "data": {
      "text/plain": [
       "'This is a screening assignment'"
      ]
     },
     "execution_count": 15,
     "metadata": {},
     "output_type": "execute_result"
    }
   ],
   "source": [
    "file_name = open('example.txt','r')\n",
    "file_name.read()"
   ]
  },
  {
   "cell_type": "code",
   "execution_count": 6,
   "id": "bf7a0a59",
   "metadata": {},
   "outputs": [],
   "source": [
    "#2. Demonstrate use of abstract class, multiple inheritance and decorator in python using examples.\n",
    "#Abstract Class\n",
    "class Animal:\n",
    "    def __init__(self, name):\n",
    "        self.name = name\n",
    "    def talk(self):\n",
    "        raise NotImplementedError(\"Abstract method not implemented\")\n",
    "    \n",
    "class Cat(Animal):\n",
    "    def talk(self):\n",
    "        return 'Meow!'\n",
    "    \n",
    "class Dog(Animal):\n",
    "    def talk(self):\n",
    "        return 'Woof!'"
   ]
  },
  {
   "cell_type": "code",
   "execution_count": 16,
   "id": "a2732d9f",
   "metadata": {},
   "outputs": [
    {
     "name": "stdout",
     "output_type": "stream",
     "text": [
      "Alisa says Meow!\n",
      "bruno says Woof!\n"
     ]
    }
   ],
   "source": [
    "def main():\n",
    "    animals = [Cat('Alisa'),\n",
    "               Dog('bruno')]\n",
    "    for animal in animals:\n",
    "        print(animal.name, 'says', animal.talk())\n",
    "        \n",
    "if __name__ == '__main__':\n",
    "    main()"
   ]
  },
  {
   "cell_type": "code",
   "execution_count": 8,
   "id": "f184db92",
   "metadata": {},
   "outputs": [],
   "source": [
    "#Example of decorator\n",
    "def my_decorator(func):\n",
    "    def wrap_func():\n",
    "        print(\"Code before function\")\n",
    "        func()\n",
    "    return wrap_func  "
   ]
  },
  {
   "cell_type": "code",
   "execution_count": 9,
   "id": "b58bc82c",
   "metadata": {},
   "outputs": [],
   "source": [
    "#test above decorator\n",
    "@my_decorator\n",
    "def say_hello():\n",
    "    print(\"Hello!\")"
   ]
  },
  {
   "cell_type": "code",
   "execution_count": 10,
   "id": "4899450e",
   "metadata": {},
   "outputs": [
    {
     "name": "stdout",
     "output_type": "stream",
     "text": [
      "Code before function\n",
      "Hello!\n"
     ]
    }
   ],
   "source": [
    "say_hello()"
   ]
  },
  {
   "cell_type": "code",
   "execution_count": null,
   "id": "b56dbff5",
   "metadata": {},
   "outputs": [],
   "source": []
  }
 ],
 "metadata": {
  "kernelspec": {
   "display_name": "Python 3 (ipykernel)",
   "language": "python",
   "name": "python3"
  },
  "language_info": {
   "codemirror_mode": {
    "name": "ipython",
    "version": 3
   },
   "file_extension": ".py",
   "mimetype": "text/x-python",
   "name": "python",
   "nbconvert_exporter": "python",
   "pygments_lexer": "ipython3",
   "version": "3.9.7"
  }
 },
 "nbformat": 4,
 "nbformat_minor": 5
}
